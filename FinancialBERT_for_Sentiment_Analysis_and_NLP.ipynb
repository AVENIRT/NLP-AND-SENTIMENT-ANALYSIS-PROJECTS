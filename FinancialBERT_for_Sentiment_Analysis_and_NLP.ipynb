{
  "nbformat": 4,
  "nbformat_minor": 0,
  "metadata": {
    "colab": {
      "provenance": [],
      "gpuType": "T4"
    },
    "kernelspec": {
      "name": "python3",
      "display_name": "Python 3"
    },
    "language_info": {
      "name": "python"
    },
    "accelerator": "GPU",
    "widgets": {
      "application/vnd.jupyter.widget-state+json": {
        "6cbba3bc703f4c609da3a9f8edc02922": {
          "model_module": "@jupyter-widgets/controls",
          "model_name": "HBoxModel",
          "model_module_version": "1.5.0",
          "state": {
            "_dom_classes": [],
            "_model_module": "@jupyter-widgets/controls",
            "_model_module_version": "1.5.0",
            "_model_name": "HBoxModel",
            "_view_count": null,
            "_view_module": "@jupyter-widgets/controls",
            "_view_module_version": "1.5.0",
            "_view_name": "HBoxView",
            "box_style": "",
            "children": [
              "IPY_MODEL_ad1a53e968f04d92b77a09bbd6c3b536",
              "IPY_MODEL_0ab447b59145430c981013637c7cb4db",
              "IPY_MODEL_d741c946106049f0bcc279f5d03e78d8"
            ],
            "layout": "IPY_MODEL_d9aceabd91074393a5b9b2bc2acb30b7"
          }
        },
        "ad1a53e968f04d92b77a09bbd6c3b536": {
          "model_module": "@jupyter-widgets/controls",
          "model_name": "HTMLModel",
          "model_module_version": "1.5.0",
          "state": {
            "_dom_classes": [],
            "_model_module": "@jupyter-widgets/controls",
            "_model_module_version": "1.5.0",
            "_model_name": "HTMLModel",
            "_view_count": null,
            "_view_module": "@jupyter-widgets/controls",
            "_view_module_version": "1.5.0",
            "_view_name": "HTMLView",
            "description": "",
            "description_tooltip": null,
            "layout": "IPY_MODEL_457d8fe5122d4d8caf98c015d29da7bd",
            "placeholder": "​",
            "style": "IPY_MODEL_2322d52a61d14d92b5fdab0c8d3d9429",
            "value": "config.json: 100%"
          }
        },
        "0ab447b59145430c981013637c7cb4db": {
          "model_module": "@jupyter-widgets/controls",
          "model_name": "FloatProgressModel",
          "model_module_version": "1.5.0",
          "state": {
            "_dom_classes": [],
            "_model_module": "@jupyter-widgets/controls",
            "_model_module_version": "1.5.0",
            "_model_name": "FloatProgressModel",
            "_view_count": null,
            "_view_module": "@jupyter-widgets/controls",
            "_view_module_version": "1.5.0",
            "_view_name": "ProgressView",
            "bar_style": "success",
            "description": "",
            "description_tooltip": null,
            "layout": "IPY_MODEL_1d662884c8dc4714abaff7ce1ce98734",
            "max": 629,
            "min": 0,
            "orientation": "horizontal",
            "style": "IPY_MODEL_1887721a52f54299a10e1cc59237b467",
            "value": 629
          }
        },
        "d741c946106049f0bcc279f5d03e78d8": {
          "model_module": "@jupyter-widgets/controls",
          "model_name": "HTMLModel",
          "model_module_version": "1.5.0",
          "state": {
            "_dom_classes": [],
            "_model_module": "@jupyter-widgets/controls",
            "_model_module_version": "1.5.0",
            "_model_name": "HTMLModel",
            "_view_count": null,
            "_view_module": "@jupyter-widgets/controls",
            "_view_module_version": "1.5.0",
            "_view_name": "HTMLView",
            "description": "",
            "description_tooltip": null,
            "layout": "IPY_MODEL_3f0c0d28bfc94f29ad3d905324a901bc",
            "placeholder": "​",
            "style": "IPY_MODEL_473befaa5d0c458a94ea8c0ccafd6fb4",
            "value": " 629/629 [00:00&lt;00:00, 37.7kB/s]"
          }
        },
        "d9aceabd91074393a5b9b2bc2acb30b7": {
          "model_module": "@jupyter-widgets/base",
          "model_name": "LayoutModel",
          "model_module_version": "1.2.0",
          "state": {
            "_model_module": "@jupyter-widgets/base",
            "_model_module_version": "1.2.0",
            "_model_name": "LayoutModel",
            "_view_count": null,
            "_view_module": "@jupyter-widgets/base",
            "_view_module_version": "1.2.0",
            "_view_name": "LayoutView",
            "align_content": null,
            "align_items": null,
            "align_self": null,
            "border": null,
            "bottom": null,
            "display": null,
            "flex": null,
            "flex_flow": null,
            "grid_area": null,
            "grid_auto_columns": null,
            "grid_auto_flow": null,
            "grid_auto_rows": null,
            "grid_column": null,
            "grid_gap": null,
            "grid_row": null,
            "grid_template_areas": null,
            "grid_template_columns": null,
            "grid_template_rows": null,
            "height": null,
            "justify_content": null,
            "justify_items": null,
            "left": null,
            "margin": null,
            "max_height": null,
            "max_width": null,
            "min_height": null,
            "min_width": null,
            "object_fit": null,
            "object_position": null,
            "order": null,
            "overflow": null,
            "overflow_x": null,
            "overflow_y": null,
            "padding": null,
            "right": null,
            "top": null,
            "visibility": null,
            "width": null
          }
        },
        "457d8fe5122d4d8caf98c015d29da7bd": {
          "model_module": "@jupyter-widgets/base",
          "model_name": "LayoutModel",
          "model_module_version": "1.2.0",
          "state": {
            "_model_module": "@jupyter-widgets/base",
            "_model_module_version": "1.2.0",
            "_model_name": "LayoutModel",
            "_view_count": null,
            "_view_module": "@jupyter-widgets/base",
            "_view_module_version": "1.2.0",
            "_view_name": "LayoutView",
            "align_content": null,
            "align_items": null,
            "align_self": null,
            "border": null,
            "bottom": null,
            "display": null,
            "flex": null,
            "flex_flow": null,
            "grid_area": null,
            "grid_auto_columns": null,
            "grid_auto_flow": null,
            "grid_auto_rows": null,
            "grid_column": null,
            "grid_gap": null,
            "grid_row": null,
            "grid_template_areas": null,
            "grid_template_columns": null,
            "grid_template_rows": null,
            "height": null,
            "justify_content": null,
            "justify_items": null,
            "left": null,
            "margin": null,
            "max_height": null,
            "max_width": null,
            "min_height": null,
            "min_width": null,
            "object_fit": null,
            "object_position": null,
            "order": null,
            "overflow": null,
            "overflow_x": null,
            "overflow_y": null,
            "padding": null,
            "right": null,
            "top": null,
            "visibility": null,
            "width": null
          }
        },
        "2322d52a61d14d92b5fdab0c8d3d9429": {
          "model_module": "@jupyter-widgets/controls",
          "model_name": "DescriptionStyleModel",
          "model_module_version": "1.5.0",
          "state": {
            "_model_module": "@jupyter-widgets/controls",
            "_model_module_version": "1.5.0",
            "_model_name": "DescriptionStyleModel",
            "_view_count": null,
            "_view_module": "@jupyter-widgets/base",
            "_view_module_version": "1.2.0",
            "_view_name": "StyleView",
            "description_width": ""
          }
        },
        "1d662884c8dc4714abaff7ce1ce98734": {
          "model_module": "@jupyter-widgets/base",
          "model_name": "LayoutModel",
          "model_module_version": "1.2.0",
          "state": {
            "_model_module": "@jupyter-widgets/base",
            "_model_module_version": "1.2.0",
            "_model_name": "LayoutModel",
            "_view_count": null,
            "_view_module": "@jupyter-widgets/base",
            "_view_module_version": "1.2.0",
            "_view_name": "LayoutView",
            "align_content": null,
            "align_items": null,
            "align_self": null,
            "border": null,
            "bottom": null,
            "display": null,
            "flex": null,
            "flex_flow": null,
            "grid_area": null,
            "grid_auto_columns": null,
            "grid_auto_flow": null,
            "grid_auto_rows": null,
            "grid_column": null,
            "grid_gap": null,
            "grid_row": null,
            "grid_template_areas": null,
            "grid_template_columns": null,
            "grid_template_rows": null,
            "height": null,
            "justify_content": null,
            "justify_items": null,
            "left": null,
            "margin": null,
            "max_height": null,
            "max_width": null,
            "min_height": null,
            "min_width": null,
            "object_fit": null,
            "object_position": null,
            "order": null,
            "overflow": null,
            "overflow_x": null,
            "overflow_y": null,
            "padding": null,
            "right": null,
            "top": null,
            "visibility": null,
            "width": null
          }
        },
        "1887721a52f54299a10e1cc59237b467": {
          "model_module": "@jupyter-widgets/controls",
          "model_name": "ProgressStyleModel",
          "model_module_version": "1.5.0",
          "state": {
            "_model_module": "@jupyter-widgets/controls",
            "_model_module_version": "1.5.0",
            "_model_name": "ProgressStyleModel",
            "_view_count": null,
            "_view_module": "@jupyter-widgets/base",
            "_view_module_version": "1.2.0",
            "_view_name": "StyleView",
            "bar_color": null,
            "description_width": ""
          }
        },
        "3f0c0d28bfc94f29ad3d905324a901bc": {
          "model_module": "@jupyter-widgets/base",
          "model_name": "LayoutModel",
          "model_module_version": "1.2.0",
          "state": {
            "_model_module": "@jupyter-widgets/base",
            "_model_module_version": "1.2.0",
            "_model_name": "LayoutModel",
            "_view_count": null,
            "_view_module": "@jupyter-widgets/base",
            "_view_module_version": "1.2.0",
            "_view_name": "LayoutView",
            "align_content": null,
            "align_items": null,
            "align_self": null,
            "border": null,
            "bottom": null,
            "display": null,
            "flex": null,
            "flex_flow": null,
            "grid_area": null,
            "grid_auto_columns": null,
            "grid_auto_flow": null,
            "grid_auto_rows": null,
            "grid_column": null,
            "grid_gap": null,
            "grid_row": null,
            "grid_template_areas": null,
            "grid_template_columns": null,
            "grid_template_rows": null,
            "height": null,
            "justify_content": null,
            "justify_items": null,
            "left": null,
            "margin": null,
            "max_height": null,
            "max_width": null,
            "min_height": null,
            "min_width": null,
            "object_fit": null,
            "object_position": null,
            "order": null,
            "overflow": null,
            "overflow_x": null,
            "overflow_y": null,
            "padding": null,
            "right": null,
            "top": null,
            "visibility": null,
            "width": null
          }
        },
        "473befaa5d0c458a94ea8c0ccafd6fb4": {
          "model_module": "@jupyter-widgets/controls",
          "model_name": "DescriptionStyleModel",
          "model_module_version": "1.5.0",
          "state": {
            "_model_module": "@jupyter-widgets/controls",
            "_model_module_version": "1.5.0",
            "_model_name": "DescriptionStyleModel",
            "_view_count": null,
            "_view_module": "@jupyter-widgets/base",
            "_view_module_version": "1.2.0",
            "_view_name": "StyleView",
            "description_width": ""
          }
        },
        "50db4e5338704e5cb19c73698a554d00": {
          "model_module": "@jupyter-widgets/controls",
          "model_name": "HBoxModel",
          "model_module_version": "1.5.0",
          "state": {
            "_dom_classes": [],
            "_model_module": "@jupyter-widgets/controls",
            "_model_module_version": "1.5.0",
            "_model_name": "HBoxModel",
            "_view_count": null,
            "_view_module": "@jupyter-widgets/controls",
            "_view_module_version": "1.5.0",
            "_view_name": "HBoxView",
            "box_style": "",
            "children": [
              "IPY_MODEL_14b4fce42b764803bdb062b36d9030d2",
              "IPY_MODEL_35fd3828a461472f95b957573d9833f8",
              "IPY_MODEL_11db11a66b6e416d9589f1d370da4c9a"
            ],
            "layout": "IPY_MODEL_a8f95d54e9b3451598144cca3477c94f"
          }
        },
        "14b4fce42b764803bdb062b36d9030d2": {
          "model_module": "@jupyter-widgets/controls",
          "model_name": "HTMLModel",
          "model_module_version": "1.5.0",
          "state": {
            "_dom_classes": [],
            "_model_module": "@jupyter-widgets/controls",
            "_model_module_version": "1.5.0",
            "_model_name": "HTMLModel",
            "_view_count": null,
            "_view_module": "@jupyter-widgets/controls",
            "_view_module_version": "1.5.0",
            "_view_name": "HTMLView",
            "description": "",
            "description_tooltip": null,
            "layout": "IPY_MODEL_058568f0ff7041c4aa551197b6371c63",
            "placeholder": "​",
            "style": "IPY_MODEL_577f8b67f17b4a5e96728258c34581f6",
            "value": "model.safetensors: 100%"
          }
        },
        "35fd3828a461472f95b957573d9833f8": {
          "model_module": "@jupyter-widgets/controls",
          "model_name": "FloatProgressModel",
          "model_module_version": "1.5.0",
          "state": {
            "_dom_classes": [],
            "_model_module": "@jupyter-widgets/controls",
            "_model_module_version": "1.5.0",
            "_model_name": "FloatProgressModel",
            "_view_count": null,
            "_view_module": "@jupyter-widgets/controls",
            "_view_module_version": "1.5.0",
            "_view_name": "ProgressView",
            "bar_style": "success",
            "description": "",
            "description_tooltip": null,
            "layout": "IPY_MODEL_c1a07cc31bf94e899068723538ebdd4c",
            "max": 267832558,
            "min": 0,
            "orientation": "horizontal",
            "style": "IPY_MODEL_a34e1c7f11064859be6932c22b1f19cf",
            "value": 267832558
          }
        },
        "11db11a66b6e416d9589f1d370da4c9a": {
          "model_module": "@jupyter-widgets/controls",
          "model_name": "HTMLModel",
          "model_module_version": "1.5.0",
          "state": {
            "_dom_classes": [],
            "_model_module": "@jupyter-widgets/controls",
            "_model_module_version": "1.5.0",
            "_model_name": "HTMLModel",
            "_view_count": null,
            "_view_module": "@jupyter-widgets/controls",
            "_view_module_version": "1.5.0",
            "_view_name": "HTMLView",
            "description": "",
            "description_tooltip": null,
            "layout": "IPY_MODEL_06626701e46146ee8eaf09444bccc53b",
            "placeholder": "​",
            "style": "IPY_MODEL_56ed35152ea04f4391582212afe36c8a",
            "value": " 268M/268M [00:01&lt;00:00, 250MB/s]"
          }
        },
        "a8f95d54e9b3451598144cca3477c94f": {
          "model_module": "@jupyter-widgets/base",
          "model_name": "LayoutModel",
          "model_module_version": "1.2.0",
          "state": {
            "_model_module": "@jupyter-widgets/base",
            "_model_module_version": "1.2.0",
            "_model_name": "LayoutModel",
            "_view_count": null,
            "_view_module": "@jupyter-widgets/base",
            "_view_module_version": "1.2.0",
            "_view_name": "LayoutView",
            "align_content": null,
            "align_items": null,
            "align_self": null,
            "border": null,
            "bottom": null,
            "display": null,
            "flex": null,
            "flex_flow": null,
            "grid_area": null,
            "grid_auto_columns": null,
            "grid_auto_flow": null,
            "grid_auto_rows": null,
            "grid_column": null,
            "grid_gap": null,
            "grid_row": null,
            "grid_template_areas": null,
            "grid_template_columns": null,
            "grid_template_rows": null,
            "height": null,
            "justify_content": null,
            "justify_items": null,
            "left": null,
            "margin": null,
            "max_height": null,
            "max_width": null,
            "min_height": null,
            "min_width": null,
            "object_fit": null,
            "object_position": null,
            "order": null,
            "overflow": null,
            "overflow_x": null,
            "overflow_y": null,
            "padding": null,
            "right": null,
            "top": null,
            "visibility": null,
            "width": null
          }
        },
        "058568f0ff7041c4aa551197b6371c63": {
          "model_module": "@jupyter-widgets/base",
          "model_name": "LayoutModel",
          "model_module_version": "1.2.0",
          "state": {
            "_model_module": "@jupyter-widgets/base",
            "_model_module_version": "1.2.0",
            "_model_name": "LayoutModel",
            "_view_count": null,
            "_view_module": "@jupyter-widgets/base",
            "_view_module_version": "1.2.0",
            "_view_name": "LayoutView",
            "align_content": null,
            "align_items": null,
            "align_self": null,
            "border": null,
            "bottom": null,
            "display": null,
            "flex": null,
            "flex_flow": null,
            "grid_area": null,
            "grid_auto_columns": null,
            "grid_auto_flow": null,
            "grid_auto_rows": null,
            "grid_column": null,
            "grid_gap": null,
            "grid_row": null,
            "grid_template_areas": null,
            "grid_template_columns": null,
            "grid_template_rows": null,
            "height": null,
            "justify_content": null,
            "justify_items": null,
            "left": null,
            "margin": null,
            "max_height": null,
            "max_width": null,
            "min_height": null,
            "min_width": null,
            "object_fit": null,
            "object_position": null,
            "order": null,
            "overflow": null,
            "overflow_x": null,
            "overflow_y": null,
            "padding": null,
            "right": null,
            "top": null,
            "visibility": null,
            "width": null
          }
        },
        "577f8b67f17b4a5e96728258c34581f6": {
          "model_module": "@jupyter-widgets/controls",
          "model_name": "DescriptionStyleModel",
          "model_module_version": "1.5.0",
          "state": {
            "_model_module": "@jupyter-widgets/controls",
            "_model_module_version": "1.5.0",
            "_model_name": "DescriptionStyleModel",
            "_view_count": null,
            "_view_module": "@jupyter-widgets/base",
            "_view_module_version": "1.2.0",
            "_view_name": "StyleView",
            "description_width": ""
          }
        },
        "c1a07cc31bf94e899068723538ebdd4c": {
          "model_module": "@jupyter-widgets/base",
          "model_name": "LayoutModel",
          "model_module_version": "1.2.0",
          "state": {
            "_model_module": "@jupyter-widgets/base",
            "_model_module_version": "1.2.0",
            "_model_name": "LayoutModel",
            "_view_count": null,
            "_view_module": "@jupyter-widgets/base",
            "_view_module_version": "1.2.0",
            "_view_name": "LayoutView",
            "align_content": null,
            "align_items": null,
            "align_self": null,
            "border": null,
            "bottom": null,
            "display": null,
            "flex": null,
            "flex_flow": null,
            "grid_area": null,
            "grid_auto_columns": null,
            "grid_auto_flow": null,
            "grid_auto_rows": null,
            "grid_column": null,
            "grid_gap": null,
            "grid_row": null,
            "grid_template_areas": null,
            "grid_template_columns": null,
            "grid_template_rows": null,
            "height": null,
            "justify_content": null,
            "justify_items": null,
            "left": null,
            "margin": null,
            "max_height": null,
            "max_width": null,
            "min_height": null,
            "min_width": null,
            "object_fit": null,
            "object_position": null,
            "order": null,
            "overflow": null,
            "overflow_x": null,
            "overflow_y": null,
            "padding": null,
            "right": null,
            "top": null,
            "visibility": null,
            "width": null
          }
        },
        "a34e1c7f11064859be6932c22b1f19cf": {
          "model_module": "@jupyter-widgets/controls",
          "model_name": "ProgressStyleModel",
          "model_module_version": "1.5.0",
          "state": {
            "_model_module": "@jupyter-widgets/controls",
            "_model_module_version": "1.5.0",
            "_model_name": "ProgressStyleModel",
            "_view_count": null,
            "_view_module": "@jupyter-widgets/base",
            "_view_module_version": "1.2.0",
            "_view_name": "StyleView",
            "bar_color": null,
            "description_width": ""
          }
        },
        "06626701e46146ee8eaf09444bccc53b": {
          "model_module": "@jupyter-widgets/base",
          "model_name": "LayoutModel",
          "model_module_version": "1.2.0",
          "state": {
            "_model_module": "@jupyter-widgets/base",
            "_model_module_version": "1.2.0",
            "_model_name": "LayoutModel",
            "_view_count": null,
            "_view_module": "@jupyter-widgets/base",
            "_view_module_version": "1.2.0",
            "_view_name": "LayoutView",
            "align_content": null,
            "align_items": null,
            "align_self": null,
            "border": null,
            "bottom": null,
            "display": null,
            "flex": null,
            "flex_flow": null,
            "grid_area": null,
            "grid_auto_columns": null,
            "grid_auto_flow": null,
            "grid_auto_rows": null,
            "grid_column": null,
            "grid_gap": null,
            "grid_row": null,
            "grid_template_areas": null,
            "grid_template_columns": null,
            "grid_template_rows": null,
            "height": null,
            "justify_content": null,
            "justify_items": null,
            "left": null,
            "margin": null,
            "max_height": null,
            "max_width": null,
            "min_height": null,
            "min_width": null,
            "object_fit": null,
            "object_position": null,
            "order": null,
            "overflow": null,
            "overflow_x": null,
            "overflow_y": null,
            "padding": null,
            "right": null,
            "top": null,
            "visibility": null,
            "width": null
          }
        },
        "56ed35152ea04f4391582212afe36c8a": {
          "model_module": "@jupyter-widgets/controls",
          "model_name": "DescriptionStyleModel",
          "model_module_version": "1.5.0",
          "state": {
            "_model_module": "@jupyter-widgets/controls",
            "_model_module_version": "1.5.0",
            "_model_name": "DescriptionStyleModel",
            "_view_count": null,
            "_view_module": "@jupyter-widgets/base",
            "_view_module_version": "1.2.0",
            "_view_name": "StyleView",
            "description_width": ""
          }
        },
        "3f7bf047698740df90518f5577a02c5a": {
          "model_module": "@jupyter-widgets/controls",
          "model_name": "HBoxModel",
          "model_module_version": "1.5.0",
          "state": {
            "_dom_classes": [],
            "_model_module": "@jupyter-widgets/controls",
            "_model_module_version": "1.5.0",
            "_model_name": "HBoxModel",
            "_view_count": null,
            "_view_module": "@jupyter-widgets/controls",
            "_view_module_version": "1.5.0",
            "_view_name": "HBoxView",
            "box_style": "",
            "children": [
              "IPY_MODEL_e230e18eda1f4b45aa9a42e8be43d82b",
              "IPY_MODEL_6415ca8a2cc84bd8881739f98ea87fc6",
              "IPY_MODEL_45291f52738d46c5b0fc45c31d0aaa4c"
            ],
            "layout": "IPY_MODEL_f4e0d07b18ee4dc0bf202424e5f11e98"
          }
        },
        "e230e18eda1f4b45aa9a42e8be43d82b": {
          "model_module": "@jupyter-widgets/controls",
          "model_name": "HTMLModel",
          "model_module_version": "1.5.0",
          "state": {
            "_dom_classes": [],
            "_model_module": "@jupyter-widgets/controls",
            "_model_module_version": "1.5.0",
            "_model_name": "HTMLModel",
            "_view_count": null,
            "_view_module": "@jupyter-widgets/controls",
            "_view_module_version": "1.5.0",
            "_view_name": "HTMLView",
            "description": "",
            "description_tooltip": null,
            "layout": "IPY_MODEL_c23939889d7a476e875d8ee3dd75b12b",
            "placeholder": "​",
            "style": "IPY_MODEL_b79b021ce76e463aa993077afa946459",
            "value": "tokenizer_config.json: 100%"
          }
        },
        "6415ca8a2cc84bd8881739f98ea87fc6": {
          "model_module": "@jupyter-widgets/controls",
          "model_name": "FloatProgressModel",
          "model_module_version": "1.5.0",
          "state": {
            "_dom_classes": [],
            "_model_module": "@jupyter-widgets/controls",
            "_model_module_version": "1.5.0",
            "_model_name": "FloatProgressModel",
            "_view_count": null,
            "_view_module": "@jupyter-widgets/controls",
            "_view_module_version": "1.5.0",
            "_view_name": "ProgressView",
            "bar_style": "success",
            "description": "",
            "description_tooltip": null,
            "layout": "IPY_MODEL_0240f63b5e874f2a885fd8944a4d01d1",
            "max": 48,
            "min": 0,
            "orientation": "horizontal",
            "style": "IPY_MODEL_95ff3c51284d4f33a81279f9ac783de4",
            "value": 48
          }
        },
        "45291f52738d46c5b0fc45c31d0aaa4c": {
          "model_module": "@jupyter-widgets/controls",
          "model_name": "HTMLModel",
          "model_module_version": "1.5.0",
          "state": {
            "_dom_classes": [],
            "_model_module": "@jupyter-widgets/controls",
            "_model_module_version": "1.5.0",
            "_model_name": "HTMLModel",
            "_view_count": null,
            "_view_module": "@jupyter-widgets/controls",
            "_view_module_version": "1.5.0",
            "_view_name": "HTMLView",
            "description": "",
            "description_tooltip": null,
            "layout": "IPY_MODEL_d00d37f886034a438689b54b535ae833",
            "placeholder": "​",
            "style": "IPY_MODEL_445b7e5109bc4e83acc01f86687b5890",
            "value": " 48.0/48.0 [00:00&lt;00:00, 2.59kB/s]"
          }
        },
        "f4e0d07b18ee4dc0bf202424e5f11e98": {
          "model_module": "@jupyter-widgets/base",
          "model_name": "LayoutModel",
          "model_module_version": "1.2.0",
          "state": {
            "_model_module": "@jupyter-widgets/base",
            "_model_module_version": "1.2.0",
            "_model_name": "LayoutModel",
            "_view_count": null,
            "_view_module": "@jupyter-widgets/base",
            "_view_module_version": "1.2.0",
            "_view_name": "LayoutView",
            "align_content": null,
            "align_items": null,
            "align_self": null,
            "border": null,
            "bottom": null,
            "display": null,
            "flex": null,
            "flex_flow": null,
            "grid_area": null,
            "grid_auto_columns": null,
            "grid_auto_flow": null,
            "grid_auto_rows": null,
            "grid_column": null,
            "grid_gap": null,
            "grid_row": null,
            "grid_template_areas": null,
            "grid_template_columns": null,
            "grid_template_rows": null,
            "height": null,
            "justify_content": null,
            "justify_items": null,
            "left": null,
            "margin": null,
            "max_height": null,
            "max_width": null,
            "min_height": null,
            "min_width": null,
            "object_fit": null,
            "object_position": null,
            "order": null,
            "overflow": null,
            "overflow_x": null,
            "overflow_y": null,
            "padding": null,
            "right": null,
            "top": null,
            "visibility": null,
            "width": null
          }
        },
        "c23939889d7a476e875d8ee3dd75b12b": {
          "model_module": "@jupyter-widgets/base",
          "model_name": "LayoutModel",
          "model_module_version": "1.2.0",
          "state": {
            "_model_module": "@jupyter-widgets/base",
            "_model_module_version": "1.2.0",
            "_model_name": "LayoutModel",
            "_view_count": null,
            "_view_module": "@jupyter-widgets/base",
            "_view_module_version": "1.2.0",
            "_view_name": "LayoutView",
            "align_content": null,
            "align_items": null,
            "align_self": null,
            "border": null,
            "bottom": null,
            "display": null,
            "flex": null,
            "flex_flow": null,
            "grid_area": null,
            "grid_auto_columns": null,
            "grid_auto_flow": null,
            "grid_auto_rows": null,
            "grid_column": null,
            "grid_gap": null,
            "grid_row": null,
            "grid_template_areas": null,
            "grid_template_columns": null,
            "grid_template_rows": null,
            "height": null,
            "justify_content": null,
            "justify_items": null,
            "left": null,
            "margin": null,
            "max_height": null,
            "max_width": null,
            "min_height": null,
            "min_width": null,
            "object_fit": null,
            "object_position": null,
            "order": null,
            "overflow": null,
            "overflow_x": null,
            "overflow_y": null,
            "padding": null,
            "right": null,
            "top": null,
            "visibility": null,
            "width": null
          }
        },
        "b79b021ce76e463aa993077afa946459": {
          "model_module": "@jupyter-widgets/controls",
          "model_name": "DescriptionStyleModel",
          "model_module_version": "1.5.0",
          "state": {
            "_model_module": "@jupyter-widgets/controls",
            "_model_module_version": "1.5.0",
            "_model_name": "DescriptionStyleModel",
            "_view_count": null,
            "_view_module": "@jupyter-widgets/base",
            "_view_module_version": "1.2.0",
            "_view_name": "StyleView",
            "description_width": ""
          }
        },
        "0240f63b5e874f2a885fd8944a4d01d1": {
          "model_module": "@jupyter-widgets/base",
          "model_name": "LayoutModel",
          "model_module_version": "1.2.0",
          "state": {
            "_model_module": "@jupyter-widgets/base",
            "_model_module_version": "1.2.0",
            "_model_name": "LayoutModel",
            "_view_count": null,
            "_view_module": "@jupyter-widgets/base",
            "_view_module_version": "1.2.0",
            "_view_name": "LayoutView",
            "align_content": null,
            "align_items": null,
            "align_self": null,
            "border": null,
            "bottom": null,
            "display": null,
            "flex": null,
            "flex_flow": null,
            "grid_area": null,
            "grid_auto_columns": null,
            "grid_auto_flow": null,
            "grid_auto_rows": null,
            "grid_column": null,
            "grid_gap": null,
            "grid_row": null,
            "grid_template_areas": null,
            "grid_template_columns": null,
            "grid_template_rows": null,
            "height": null,
            "justify_content": null,
            "justify_items": null,
            "left": null,
            "margin": null,
            "max_height": null,
            "max_width": null,
            "min_height": null,
            "min_width": null,
            "object_fit": null,
            "object_position": null,
            "order": null,
            "overflow": null,
            "overflow_x": null,
            "overflow_y": null,
            "padding": null,
            "right": null,
            "top": null,
            "visibility": null,
            "width": null
          }
        },
        "95ff3c51284d4f33a81279f9ac783de4": {
          "model_module": "@jupyter-widgets/controls",
          "model_name": "ProgressStyleModel",
          "model_module_version": "1.5.0",
          "state": {
            "_model_module": "@jupyter-widgets/controls",
            "_model_module_version": "1.5.0",
            "_model_name": "ProgressStyleModel",
            "_view_count": null,
            "_view_module": "@jupyter-widgets/base",
            "_view_module_version": "1.2.0",
            "_view_name": "StyleView",
            "bar_color": null,
            "description_width": ""
          }
        },
        "d00d37f886034a438689b54b535ae833": {
          "model_module": "@jupyter-widgets/base",
          "model_name": "LayoutModel",
          "model_module_version": "1.2.0",
          "state": {
            "_model_module": "@jupyter-widgets/base",
            "_model_module_version": "1.2.0",
            "_model_name": "LayoutModel",
            "_view_count": null,
            "_view_module": "@jupyter-widgets/base",
            "_view_module_version": "1.2.0",
            "_view_name": "LayoutView",
            "align_content": null,
            "align_items": null,
            "align_self": null,
            "border": null,
            "bottom": null,
            "display": null,
            "flex": null,
            "flex_flow": null,
            "grid_area": null,
            "grid_auto_columns": null,
            "grid_auto_flow": null,
            "grid_auto_rows": null,
            "grid_column": null,
            "grid_gap": null,
            "grid_row": null,
            "grid_template_areas": null,
            "grid_template_columns": null,
            "grid_template_rows": null,
            "height": null,
            "justify_content": null,
            "justify_items": null,
            "left": null,
            "margin": null,
            "max_height": null,
            "max_width": null,
            "min_height": null,
            "min_width": null,
            "object_fit": null,
            "object_position": null,
            "order": null,
            "overflow": null,
            "overflow_x": null,
            "overflow_y": null,
            "padding": null,
            "right": null,
            "top": null,
            "visibility": null,
            "width": null
          }
        },
        "445b7e5109bc4e83acc01f86687b5890": {
          "model_module": "@jupyter-widgets/controls",
          "model_name": "DescriptionStyleModel",
          "model_module_version": "1.5.0",
          "state": {
            "_model_module": "@jupyter-widgets/controls",
            "_model_module_version": "1.5.0",
            "_model_name": "DescriptionStyleModel",
            "_view_count": null,
            "_view_module": "@jupyter-widgets/base",
            "_view_module_version": "1.2.0",
            "_view_name": "StyleView",
            "description_width": ""
          }
        },
        "a10537ec5c0f4446bed11fbf488d61ba": {
          "model_module": "@jupyter-widgets/controls",
          "model_name": "HBoxModel",
          "model_module_version": "1.5.0",
          "state": {
            "_dom_classes": [],
            "_model_module": "@jupyter-widgets/controls",
            "_model_module_version": "1.5.0",
            "_model_name": "HBoxModel",
            "_view_count": null,
            "_view_module": "@jupyter-widgets/controls",
            "_view_module_version": "1.5.0",
            "_view_name": "HBoxView",
            "box_style": "",
            "children": [
              "IPY_MODEL_5c620d11c5804f729dce058174b9bb8f",
              "IPY_MODEL_67e0d08cbc2149bbbaae84154d4a9802",
              "IPY_MODEL_19017b93d451448b9ce5cfcb0286f9a9"
            ],
            "layout": "IPY_MODEL_009b8982937e49c0b98840658ce33d0e"
          }
        },
        "5c620d11c5804f729dce058174b9bb8f": {
          "model_module": "@jupyter-widgets/controls",
          "model_name": "HTMLModel",
          "model_module_version": "1.5.0",
          "state": {
            "_dom_classes": [],
            "_model_module": "@jupyter-widgets/controls",
            "_model_module_version": "1.5.0",
            "_model_name": "HTMLModel",
            "_view_count": null,
            "_view_module": "@jupyter-widgets/controls",
            "_view_module_version": "1.5.0",
            "_view_name": "HTMLView",
            "description": "",
            "description_tooltip": null,
            "layout": "IPY_MODEL_741367a0a9ec41328b316e34e9c1112e",
            "placeholder": "​",
            "style": "IPY_MODEL_2b333f3a91034dafb8a63511f599271f",
            "value": "vocab.txt: 100%"
          }
        },
        "67e0d08cbc2149bbbaae84154d4a9802": {
          "model_module": "@jupyter-widgets/controls",
          "model_name": "FloatProgressModel",
          "model_module_version": "1.5.0",
          "state": {
            "_dom_classes": [],
            "_model_module": "@jupyter-widgets/controls",
            "_model_module_version": "1.5.0",
            "_model_name": "FloatProgressModel",
            "_view_count": null,
            "_view_module": "@jupyter-widgets/controls",
            "_view_module_version": "1.5.0",
            "_view_name": "ProgressView",
            "bar_style": "success",
            "description": "",
            "description_tooltip": null,
            "layout": "IPY_MODEL_1168614217ec4b68875614d42acda9f2",
            "max": 231508,
            "min": 0,
            "orientation": "horizontal",
            "style": "IPY_MODEL_1831e9690a7d447a8d60b3d7daffd921",
            "value": 231508
          }
        },
        "19017b93d451448b9ce5cfcb0286f9a9": {
          "model_module": "@jupyter-widgets/controls",
          "model_name": "HTMLModel",
          "model_module_version": "1.5.0",
          "state": {
            "_dom_classes": [],
            "_model_module": "@jupyter-widgets/controls",
            "_model_module_version": "1.5.0",
            "_model_name": "HTMLModel",
            "_view_count": null,
            "_view_module": "@jupyter-widgets/controls",
            "_view_module_version": "1.5.0",
            "_view_name": "HTMLView",
            "description": "",
            "description_tooltip": null,
            "layout": "IPY_MODEL_07904493e5d7417da6c946d94af31c85",
            "placeholder": "​",
            "style": "IPY_MODEL_3179c388f6584e4d8ce55a1630b32dbc",
            "value": " 232k/232k [00:00&lt;00:00, 1.68MB/s]"
          }
        },
        "009b8982937e49c0b98840658ce33d0e": {
          "model_module": "@jupyter-widgets/base",
          "model_name": "LayoutModel",
          "model_module_version": "1.2.0",
          "state": {
            "_model_module": "@jupyter-widgets/base",
            "_model_module_version": "1.2.0",
            "_model_name": "LayoutModel",
            "_view_count": null,
            "_view_module": "@jupyter-widgets/base",
            "_view_module_version": "1.2.0",
            "_view_name": "LayoutView",
            "align_content": null,
            "align_items": null,
            "align_self": null,
            "border": null,
            "bottom": null,
            "display": null,
            "flex": null,
            "flex_flow": null,
            "grid_area": null,
            "grid_auto_columns": null,
            "grid_auto_flow": null,
            "grid_auto_rows": null,
            "grid_column": null,
            "grid_gap": null,
            "grid_row": null,
            "grid_template_areas": null,
            "grid_template_columns": null,
            "grid_template_rows": null,
            "height": null,
            "justify_content": null,
            "justify_items": null,
            "left": null,
            "margin": null,
            "max_height": null,
            "max_width": null,
            "min_height": null,
            "min_width": null,
            "object_fit": null,
            "object_position": null,
            "order": null,
            "overflow": null,
            "overflow_x": null,
            "overflow_y": null,
            "padding": null,
            "right": null,
            "top": null,
            "visibility": null,
            "width": null
          }
        },
        "741367a0a9ec41328b316e34e9c1112e": {
          "model_module": "@jupyter-widgets/base",
          "model_name": "LayoutModel",
          "model_module_version": "1.2.0",
          "state": {
            "_model_module": "@jupyter-widgets/base",
            "_model_module_version": "1.2.0",
            "_model_name": "LayoutModel",
            "_view_count": null,
            "_view_module": "@jupyter-widgets/base",
            "_view_module_version": "1.2.0",
            "_view_name": "LayoutView",
            "align_content": null,
            "align_items": null,
            "align_self": null,
            "border": null,
            "bottom": null,
            "display": null,
            "flex": null,
            "flex_flow": null,
            "grid_area": null,
            "grid_auto_columns": null,
            "grid_auto_flow": null,
            "grid_auto_rows": null,
            "grid_column": null,
            "grid_gap": null,
            "grid_row": null,
            "grid_template_areas": null,
            "grid_template_columns": null,
            "grid_template_rows": null,
            "height": null,
            "justify_content": null,
            "justify_items": null,
            "left": null,
            "margin": null,
            "max_height": null,
            "max_width": null,
            "min_height": null,
            "min_width": null,
            "object_fit": null,
            "object_position": null,
            "order": null,
            "overflow": null,
            "overflow_x": null,
            "overflow_y": null,
            "padding": null,
            "right": null,
            "top": null,
            "visibility": null,
            "width": null
          }
        },
        "2b333f3a91034dafb8a63511f599271f": {
          "model_module": "@jupyter-widgets/controls",
          "model_name": "DescriptionStyleModel",
          "model_module_version": "1.5.0",
          "state": {
            "_model_module": "@jupyter-widgets/controls",
            "_model_module_version": "1.5.0",
            "_model_name": "DescriptionStyleModel",
            "_view_count": null,
            "_view_module": "@jupyter-widgets/base",
            "_view_module_version": "1.2.0",
            "_view_name": "StyleView",
            "description_width": ""
          }
        },
        "1168614217ec4b68875614d42acda9f2": {
          "model_module": "@jupyter-widgets/base",
          "model_name": "LayoutModel",
          "model_module_version": "1.2.0",
          "state": {
            "_model_module": "@jupyter-widgets/base",
            "_model_module_version": "1.2.0",
            "_model_name": "LayoutModel",
            "_view_count": null,
            "_view_module": "@jupyter-widgets/base",
            "_view_module_version": "1.2.0",
            "_view_name": "LayoutView",
            "align_content": null,
            "align_items": null,
            "align_self": null,
            "border": null,
            "bottom": null,
            "display": null,
            "flex": null,
            "flex_flow": null,
            "grid_area": null,
            "grid_auto_columns": null,
            "grid_auto_flow": null,
            "grid_auto_rows": null,
            "grid_column": null,
            "grid_gap": null,
            "grid_row": null,
            "grid_template_areas": null,
            "grid_template_columns": null,
            "grid_template_rows": null,
            "height": null,
            "justify_content": null,
            "justify_items": null,
            "left": null,
            "margin": null,
            "max_height": null,
            "max_width": null,
            "min_height": null,
            "min_width": null,
            "object_fit": null,
            "object_position": null,
            "order": null,
            "overflow": null,
            "overflow_x": null,
            "overflow_y": null,
            "padding": null,
            "right": null,
            "top": null,
            "visibility": null,
            "width": null
          }
        },
        "1831e9690a7d447a8d60b3d7daffd921": {
          "model_module": "@jupyter-widgets/controls",
          "model_name": "ProgressStyleModel",
          "model_module_version": "1.5.0",
          "state": {
            "_model_module": "@jupyter-widgets/controls",
            "_model_module_version": "1.5.0",
            "_model_name": "ProgressStyleModel",
            "_view_count": null,
            "_view_module": "@jupyter-widgets/base",
            "_view_module_version": "1.2.0",
            "_view_name": "StyleView",
            "bar_color": null,
            "description_width": ""
          }
        },
        "07904493e5d7417da6c946d94af31c85": {
          "model_module": "@jupyter-widgets/base",
          "model_name": "LayoutModel",
          "model_module_version": "1.2.0",
          "state": {
            "_model_module": "@jupyter-widgets/base",
            "_model_module_version": "1.2.0",
            "_model_name": "LayoutModel",
            "_view_count": null,
            "_view_module": "@jupyter-widgets/base",
            "_view_module_version": "1.2.0",
            "_view_name": "LayoutView",
            "align_content": null,
            "align_items": null,
            "align_self": null,
            "border": null,
            "bottom": null,
            "display": null,
            "flex": null,
            "flex_flow": null,
            "grid_area": null,
            "grid_auto_columns": null,
            "grid_auto_flow": null,
            "grid_auto_rows": null,
            "grid_column": null,
            "grid_gap": null,
            "grid_row": null,
            "grid_template_areas": null,
            "grid_template_columns": null,
            "grid_template_rows": null,
            "height": null,
            "justify_content": null,
            "justify_items": null,
            "left": null,
            "margin": null,
            "max_height": null,
            "max_width": null,
            "min_height": null,
            "min_width": null,
            "object_fit": null,
            "object_position": null,
            "order": null,
            "overflow": null,
            "overflow_x": null,
            "overflow_y": null,
            "padding": null,
            "right": null,
            "top": null,
            "visibility": null,
            "width": null
          }
        },
        "3179c388f6584e4d8ce55a1630b32dbc": {
          "model_module": "@jupyter-widgets/controls",
          "model_name": "DescriptionStyleModel",
          "model_module_version": "1.5.0",
          "state": {
            "_model_module": "@jupyter-widgets/controls",
            "_model_module_version": "1.5.0",
            "_model_name": "DescriptionStyleModel",
            "_view_count": null,
            "_view_module": "@jupyter-widgets/base",
            "_view_module_version": "1.2.0",
            "_view_name": "StyleView",
            "description_width": ""
          }
        }
      }
    }
  },
  "cells": [
    {
      "cell_type": "code",
      "execution_count": null,
      "metadata": {
        "colab": {
          "base_uri": "https://localhost:8080/"
        },
        "id": "onJggW0vtFIQ",
        "outputId": "6b0398d7-443d-4bca-fd40-ebd27526f7b1"
      },
      "outputs": [
        {
          "output_type": "stream",
          "name": "stdout",
          "text": [
            "Requirement already satisfied: transformers in /usr/local/lib/python3.10/dist-packages (4.41.2)\n",
            "Requirement already satisfied: filelock in /usr/local/lib/python3.10/dist-packages (from transformers) (3.14.0)\n",
            "Requirement already satisfied: huggingface-hub<1.0,>=0.23.0 in /usr/local/lib/python3.10/dist-packages (from transformers) (0.23.3)\n",
            "Requirement already satisfied: numpy>=1.17 in /usr/local/lib/python3.10/dist-packages (from transformers) (1.25.2)\n",
            "Requirement already satisfied: packaging>=20.0 in /usr/local/lib/python3.10/dist-packages (from transformers) (24.1)\n",
            "Requirement already satisfied: pyyaml>=5.1 in /usr/local/lib/python3.10/dist-packages (from transformers) (6.0.1)\n",
            "Requirement already satisfied: regex!=2019.12.17 in /usr/local/lib/python3.10/dist-packages (from transformers) (2024.5.15)\n",
            "Requirement already satisfied: requests in /usr/local/lib/python3.10/dist-packages (from transformers) (2.31.0)\n",
            "Requirement already satisfied: tokenizers<0.20,>=0.19 in /usr/local/lib/python3.10/dist-packages (from transformers) (0.19.1)\n",
            "Requirement already satisfied: safetensors>=0.4.1 in /usr/local/lib/python3.10/dist-packages (from transformers) (0.4.3)\n",
            "Requirement already satisfied: tqdm>=4.27 in /usr/local/lib/python3.10/dist-packages (from transformers) (4.66.4)\n",
            "Requirement already satisfied: fsspec>=2023.5.0 in /usr/local/lib/python3.10/dist-packages (from huggingface-hub<1.0,>=0.23.0->transformers) (2023.6.0)\n",
            "Requirement already satisfied: typing-extensions>=3.7.4.3 in /usr/local/lib/python3.10/dist-packages (from huggingface-hub<1.0,>=0.23.0->transformers) (4.12.2)\n",
            "Requirement already satisfied: charset-normalizer<4,>=2 in /usr/local/lib/python3.10/dist-packages (from requests->transformers) (3.3.2)\n",
            "Requirement already satisfied: idna<4,>=2.5 in /usr/local/lib/python3.10/dist-packages (from requests->transformers) (3.7)\n",
            "Requirement already satisfied: urllib3<3,>=1.21.1 in /usr/local/lib/python3.10/dist-packages (from requests->transformers) (2.0.7)\n",
            "Requirement already satisfied: certifi>=2017.4.17 in /usr/local/lib/python3.10/dist-packages (from requests->transformers) (2024.6.2)\n"
          ]
        }
      ],
      "source": [
        "!pip install transformers"
      ]
    },
    {
      "cell_type": "code",
      "source": [
        "!pip install TextBlob"
      ],
      "metadata": {
        "colab": {
          "base_uri": "https://localhost:8080/"
        },
        "id": "-ziT6GRjvqh4",
        "outputId": "af6a5e92-ae9a-4baf-9273-01314a86ee91"
      },
      "execution_count": null,
      "outputs": [
        {
          "output_type": "stream",
          "name": "stdout",
          "text": [
            "Requirement already satisfied: TextBlob in /usr/local/lib/python3.10/dist-packages (0.17.1)\n",
            "Requirement already satisfied: nltk>=3.1 in /usr/local/lib/python3.10/dist-packages (from TextBlob) (3.8.1)\n",
            "Requirement already satisfied: click in /usr/local/lib/python3.10/dist-packages (from nltk>=3.1->TextBlob) (8.1.7)\n",
            "Requirement already satisfied: joblib in /usr/local/lib/python3.10/dist-packages (from nltk>=3.1->TextBlob) (1.4.2)\n",
            "Requirement already satisfied: regex>=2021.8.3 in /usr/local/lib/python3.10/dist-packages (from nltk>=3.1->TextBlob) (2024.5.15)\n",
            "Requirement already satisfied: tqdm in /usr/local/lib/python3.10/dist-packages (from nltk>=3.1->TextBlob) (4.66.4)\n"
          ]
        }
      ]
    },
    {
      "cell_type": "code",
      "source": [
        "!pip install nltk"
      ],
      "metadata": {
        "colab": {
          "base_uri": "https://localhost:8080/"
        },
        "id": "Tsbzb9sOvriL",
        "outputId": "54e38b95-c1a5-48f4-d924-cd6cedfbdf77"
      },
      "execution_count": null,
      "outputs": [
        {
          "output_type": "stream",
          "name": "stdout",
          "text": [
            "Requirement already satisfied: nltk in /usr/local/lib/python3.10/dist-packages (3.8.1)\n",
            "Requirement already satisfied: click in /usr/local/lib/python3.10/dist-packages (from nltk) (8.1.7)\n",
            "Requirement already satisfied: joblib in /usr/local/lib/python3.10/dist-packages (from nltk) (1.4.2)\n",
            "Requirement already satisfied: regex>=2021.8.3 in /usr/local/lib/python3.10/dist-packages (from nltk) (2024.5.15)\n",
            "Requirement already satisfied: tqdm in /usr/local/lib/python3.10/dist-packages (from nltk) (4.66.4)\n"
          ]
        }
      ]
    },
    {
      "cell_type": "code",
      "source": [
        "!python -m textblob.download_corpora"
      ],
      "metadata": {
        "colab": {
          "base_uri": "https://localhost:8080/"
        },
        "id": "GXRhl0me8YIj",
        "outputId": "e9af4bc6-e814-406d-81ba-7b200dd8581b"
      },
      "execution_count": null,
      "outputs": [
        {
          "output_type": "stream",
          "name": "stdout",
          "text": [
            "[nltk_data] Downloading package brown to /root/nltk_data...\n",
            "[nltk_data]   Unzipping corpora/brown.zip.\n",
            "[nltk_data] Downloading package punkt to /root/nltk_data...\n",
            "[nltk_data]   Package punkt is already up-to-date!\n",
            "[nltk_data] Downloading package wordnet to /root/nltk_data...\n",
            "[nltk_data] Downloading package averaged_perceptron_tagger to\n",
            "[nltk_data]     /root/nltk_data...\n",
            "[nltk_data]   Unzipping taggers/averaged_perceptron_tagger.zip.\n",
            "[nltk_data] Downloading package conll2000 to /root/nltk_data...\n",
            "[nltk_data]   Unzipping corpora/conll2000.zip.\n",
            "[nltk_data] Downloading package movie_reviews to /root/nltk_data...\n",
            "[nltk_data]   Unzipping corpora/movie_reviews.zip.\n",
            "Finished.\n"
          ]
        }
      ]
    },
    {
      "cell_type": "markdown",
      "source": [
        "## 1. <a name=\"1\">Working with simple text-cleaning processes</a>\n",
        "\n",
        "\n",
        "In this section, you will do some general-purpose text cleaning. The following methods for cleaning can be extended, depending on the application."
      ],
      "metadata": {
        "id": "W1xxCwd_t6pV"
      }
    },
    {
      "cell_type": "code",
      "source": [
        "### TextBlob is an object-oriented NLP text-processing library that is built on the NLTK and\n",
        "####pattern NLP libraries and simplifies many of their capabilities\n",
        "\n",
        "from textblob import TextBlob\n",
        "import nltk\n",
        "nltk.download('punkt')"
      ],
      "metadata": {
        "colab": {
          "base_uri": "https://localhost:8080/"
        },
        "id": "5T2bCQfS4-bB",
        "outputId": "5d699f9e-ef84-4b43-cf2e-69d9ba0f1470"
      },
      "execution_count": null,
      "outputs": [
        {
          "output_type": "stream",
          "name": "stderr",
          "text": [
            "[nltk_data] Downloading package punkt to /root/nltk_data...\n",
            "[nltk_data]   Unzipping tokenizers/punkt.zip.\n"
          ]
        },
        {
          "output_type": "execute_result",
          "data": {
            "text/plain": [
              "True"
            ]
          },
          "metadata": {},
          "execution_count": 6
        }
      ]
    },
    {
      "cell_type": "code",
      "source": [
        "##### the text is a portion of Financial Stability and Economic Developments by Chair Jerome H. Powell\n",
        "\n",
        "text = ' '.join(('The economy is also facing headwinds from tighter credit conditions for households and businesses',\n",
        "'which are likely to weigh on economic activity, hiring, and inflation.',\n",
        "'Tighter credit conditions are a natural result of tighter monetary policy. But the bank stresses that emerged in March may well lead to a further tightening in credit conditions.',\n",
        "'The extent of these effects remains uncertain.',\n",
        "'When bank stress emerged in March, we acted in concert with other government agencies to address it, enabling the Federal Deposit Insurance Corporation to resolve two failed banks in a manner that protected all depositors.',\n",
        "'We also used our liquidity tools to make funding available to banks that might need it.'))\n",
        "\n",
        "blob = TextBlob(text)\n",
        "print(blob)\n"
      ],
      "metadata": {
        "colab": {
          "base_uri": "https://localhost:8080/"
        },
        "id": "z9YqSb8Vt8Ju",
        "outputId": "b89e48f3-2caf-4f68-dcc2-47e75fc03ea8"
      },
      "execution_count": null,
      "outputs": [
        {
          "output_type": "stream",
          "name": "stdout",
          "text": [
            "The economy is also facing headwinds from tighter credit conditions for households and businesses which are likely to weigh on economic activity, hiring, and inflation. Tighter credit conditions are a natural result of tighter monetary policy. But the bank stresses that emerged in March may well lead to a further tightening in credit conditions. The extent of these effects remains uncertain. When bank stress emerged in March, we acted in concert with other government agencies to address it, enabling the Federal Deposit Insurance Corporation to resolve two failed banks in a manner that protected all depositors. We also used our liquidity tools to make funding available to banks that might need it.\n"
          ]
        }
      ]
    },
    {
      "cell_type": "code",
      "source": [
        "#### Tokenizing Text into Sentences and Words\n",
        "blob.sentences"
      ],
      "metadata": {
        "colab": {
          "base_uri": "https://localhost:8080/"
        },
        "id": "t-Y6vUpQ7PQj",
        "outputId": "793ade86-7536-42e3-e6aa-fde4009b0e01"
      },
      "execution_count": null,
      "outputs": [
        {
          "output_type": "execute_result",
          "data": {
            "text/plain": [
              "[Sentence(\"The economy is also facing headwinds from tighter credit conditions for households and businesses which are likely to weigh on economic activity, hiring, and inflation.\"),\n",
              " Sentence(\"Tighter credit conditions are a natural result of tighter monetary policy.\"),\n",
              " Sentence(\"But the bank stresses that emerged in March may well lead to a further tightening in credit conditions.\"),\n",
              " Sentence(\"The extent of these effects remains uncertain.\"),\n",
              " Sentence(\"When bank stress emerged in March, we acted in concert with other government agencies to address it, enabling the Federal Deposit Insurance Corporation to resolve two failed banks in a manner that protected all depositors.\"),\n",
              " Sentence(\"We also used our liquidity tools to make funding available to banks that might need it.\")]"
            ]
          },
          "metadata": {},
          "execution_count": 10
        }
      ]
    },
    {
      "cell_type": "code",
      "source": [
        "##### The words property returns a WordList object containing a list of Word objects, representing each word in the TextBlob with the punctuation removed\n",
        "\n",
        "blob.words"
      ],
      "metadata": {
        "colab": {
          "base_uri": "https://localhost:8080/"
        },
        "id": "boXK8Dho7d8c",
        "outputId": "8f1a8dfc-ba55-4640-e1ae-2838a7c1d969"
      },
      "execution_count": null,
      "outputs": [
        {
          "output_type": "execute_result",
          "data": {
            "text/plain": [
              "WordList(['The', 'economy', 'is', 'also', 'facing', 'headwinds', 'from', 'tighter', 'credit', 'conditions', 'for', 'households', 'and', 'businesses', 'which', 'are', 'likely', 'to', 'weigh', 'on', 'economic', 'activity', 'hiring', 'and', 'inflation', 'Tighter', 'credit', 'conditions', 'are', 'a', 'natural', 'result', 'of', 'tighter', 'monetary', 'policy', 'But', 'the', 'bank', 'stresses', 'that', 'emerged', 'in', 'March', 'may', 'well', 'lead', 'to', 'a', 'further', 'tightening', 'in', 'credit', 'conditions', 'The', 'extent', 'of', 'these', 'effects', 'remains', 'uncertain', 'When', 'bank', 'stress', 'emerged', 'in', 'March', 'we', 'acted', 'in', 'concert', 'with', 'other', 'government', 'agencies', 'to', 'address', 'it', 'enabling', 'the', 'Federal', 'Deposit', 'Insurance', 'Corporation', 'to', 'resolve', 'two', 'failed', 'banks', 'in', 'a', 'manner', 'that', 'protected', 'all', 'depositors', 'We', 'also', 'used', 'our', 'liquidity', 'tools', 'to', 'make', 'funding', 'available', 'to', 'banks', 'that', 'might', 'need', 'it'])"
            ]
          },
          "metadata": {},
          "execution_count": 12
        }
      ]
    },
    {
      "cell_type": "code",
      "source": [
        "#### Parts-of-Speech TaggingParts-of-speech (POS) tagging is the process of evaluating words based on their context to determine\n",
        "### each word’s part of speech. There are eight primary English parts of speech—nouns, pronouns, verbs, adjectives, adverbs, prepositions,\n",
        "#### conjunctions and interjections\n",
        "\n",
        "blob.tags"
      ],
      "metadata": {
        "colab": {
          "base_uri": "https://localhost:8080/"
        },
        "id": "tkU6Pg8i7_8s",
        "outputId": "1c95ef68-4a87-47cc-9623-d7a1566845ac"
      },
      "execution_count": null,
      "outputs": [
        {
          "output_type": "execute_result",
          "data": {
            "text/plain": [
              "[('The', 'DT'),\n",
              " ('economy', 'NN'),\n",
              " ('is', 'VBZ'),\n",
              " ('also', 'RB'),\n",
              " ('facing', 'VBG'),\n",
              " ('headwinds', 'NNS'),\n",
              " ('from', 'IN'),\n",
              " ('tighter', 'JJR'),\n",
              " ('credit', 'NN'),\n",
              " ('conditions', 'NNS'),\n",
              " ('for', 'IN'),\n",
              " ('households', 'NNS'),\n",
              " ('and', 'CC'),\n",
              " ('businesses', 'NNS'),\n",
              " ('which', 'WDT'),\n",
              " ('are', 'VBP'),\n",
              " ('likely', 'JJ'),\n",
              " ('to', 'TO'),\n",
              " ('weigh', 'VB'),\n",
              " ('on', 'IN'),\n",
              " ('economic', 'JJ'),\n",
              " ('activity', 'NN'),\n",
              " ('hiring', 'NN'),\n",
              " ('and', 'CC'),\n",
              " ('inflation', 'NN'),\n",
              " ('Tighter', 'NNP'),\n",
              " ('credit', 'NN'),\n",
              " ('conditions', 'NNS'),\n",
              " ('are', 'VBP'),\n",
              " ('a', 'DT'),\n",
              " ('natural', 'JJ'),\n",
              " ('result', 'NN'),\n",
              " ('of', 'IN'),\n",
              " ('tighter', 'JJR'),\n",
              " ('monetary', 'JJ'),\n",
              " ('policy', 'NN'),\n",
              " ('But', 'CC'),\n",
              " ('the', 'DT'),\n",
              " ('bank', 'NN'),\n",
              " ('stresses', 'VBZ'),\n",
              " ('that', 'IN'),\n",
              " ('emerged', 'VBD'),\n",
              " ('in', 'IN'),\n",
              " ('March', 'NNP'),\n",
              " ('may', 'MD'),\n",
              " ('well', 'RB'),\n",
              " ('lead', 'VB'),\n",
              " ('to', 'TO'),\n",
              " ('a', 'DT'),\n",
              " ('further', 'JJ'),\n",
              " ('tightening', 'NN'),\n",
              " ('in', 'IN'),\n",
              " ('credit', 'NN'),\n",
              " ('conditions', 'NNS'),\n",
              " ('The', 'DT'),\n",
              " ('extent', 'NN'),\n",
              " ('of', 'IN'),\n",
              " ('these', 'DT'),\n",
              " ('effects', 'NNS'),\n",
              " ('remains', 'VBZ'),\n",
              " ('uncertain', 'JJ'),\n",
              " ('When', 'WRB'),\n",
              " ('bank', 'NN'),\n",
              " ('stress', 'NN'),\n",
              " ('emerged', 'VBD'),\n",
              " ('in', 'IN'),\n",
              " ('March', 'NNP'),\n",
              " ('we', 'PRP'),\n",
              " ('acted', 'VBD'),\n",
              " ('in', 'IN'),\n",
              " ('concert', 'NN'),\n",
              " ('with', 'IN'),\n",
              " ('other', 'JJ'),\n",
              " ('government', 'NN'),\n",
              " ('agencies', 'NNS'),\n",
              " ('to', 'TO'),\n",
              " ('address', 'VB'),\n",
              " ('it', 'PRP'),\n",
              " ('enabling', 'VBG'),\n",
              " ('the', 'DT'),\n",
              " ('Federal', 'NNP'),\n",
              " ('Deposit', 'NNP'),\n",
              " ('Insurance', 'NNP'),\n",
              " ('Corporation', 'NNP'),\n",
              " ('to', 'TO'),\n",
              " ('resolve', 'VB'),\n",
              " ('two', 'CD'),\n",
              " ('failed', 'JJ'),\n",
              " ('banks', 'NNS'),\n",
              " ('in', 'IN'),\n",
              " ('a', 'DT'),\n",
              " ('manner', 'NN'),\n",
              " ('that', 'WDT'),\n",
              " ('protected', 'VBD'),\n",
              " ('all', 'DT'),\n",
              " ('depositors', 'NNS'),\n",
              " ('We', 'PRP'),\n",
              " ('also', 'RB'),\n",
              " ('used', 'VBD'),\n",
              " ('our', 'PRP$'),\n",
              " ('liquidity', 'NN'),\n",
              " ('tools', 'VBZ'),\n",
              " ('to', 'TO'),\n",
              " ('make', 'VB'),\n",
              " ('funding', 'NN'),\n",
              " ('available', 'JJ'),\n",
              " ('to', 'TO'),\n",
              " ('banks', 'NNS'),\n",
              " ('that', 'WDT'),\n",
              " ('might', 'MD'),\n",
              " ('need', 'VB'),\n",
              " ('it', 'PRP')]"
            ]
          },
          "metadata": {},
          "execution_count": 18
        }
      ]
    },
    {
      "cell_type": "code",
      "source": [
        "blob.noun_phrases"
      ],
      "metadata": {
        "colab": {
          "base_uri": "https://localhost:8080/"
        },
        "id": "2sVYZApZ8uuD",
        "outputId": "813d55fa-76dd-46f2-893a-2e2681a017b5"
      },
      "execution_count": null,
      "outputs": [
        {
          "output_type": "execute_result",
          "data": {
            "text/plain": [
              "WordList(['tighter credit conditions', 'economic activity', 'tighter', 'credit conditions', 'natural result', 'monetary policy', 'bank stresses', 'march', 'credit conditions', 'bank stress', 'march', 'government agencies', 'deposit', 'insurance corporation', 'liquidity tools'])"
            ]
          },
          "metadata": {},
          "execution_count": 19
        }
      ]
    },
    {
      "cell_type": "markdown",
      "source": [
        "# Sentiment Analysis with TextBlob’s Default Sentiment Analyzer"
      ],
      "metadata": {
        "id": "EaZ_sgUb9IjZ"
      }
    },
    {
      "cell_type": "code",
      "source": [
        "######  One of the most common and valuable NLP tasks is sentiment analysis, which determines whether text is positive, neutral or negative\n",
        "\n",
        "blob.sentiment"
      ],
      "metadata": {
        "colab": {
          "base_uri": "https://localhost:8080/"
        },
        "id": "1xcgin5Y9KTv",
        "outputId": "f116641b-ff9f-42d0-a745-c62433ba91fb"
      },
      "execution_count": null,
      "outputs": [
        {
          "output_type": "execute_result",
          "data": {
            "text/plain": [
              "Sentiment(polarity=0.010714285714285723, subjectivity=0.45357142857142857)"
            ]
          },
          "metadata": {},
          "execution_count": 20
        }
      ]
    },
    {
      "cell_type": "markdown",
      "source": [
        "In the preceding output, the polarity indicates sentiment with a value from -1.0 (negative) to 1.0 (positive) with 0.0 being neutral. The subjectivity is a value from 0.0 (objective) to 1.0 (subjective). Based on the values for our TextBlob, the overall sentiment is close to neutral, and the text is mostly subjective."
      ],
      "metadata": {
        "id": "kpW0kRD59fva"
      }
    },
    {
      "cell_type": "code",
      "source": [
        "blob.sentiment.polarity"
      ],
      "metadata": {
        "colab": {
          "base_uri": "https://localhost:8080/"
        },
        "id": "clbycps49qNy",
        "outputId": "af4f4de4-865f-411c-9668-c2041b0d9c7e"
      },
      "execution_count": null,
      "outputs": [
        {
          "output_type": "execute_result",
          "data": {
            "text/plain": [
              "0.010714285714285723"
            ]
          },
          "metadata": {},
          "execution_count": 21
        }
      ]
    },
    {
      "cell_type": "markdown",
      "source": [
        "# Sentiment Analysis with the NaiveBayesAnalyzer"
      ],
      "metadata": {
        "id": "IwDYiRVF95LO"
      }
    },
    {
      "cell_type": "code",
      "source": [
        "#### he TextBlob library also comes with a NaiveBayesAnalyzer9 (module textblob.sentiments),\n",
        "##### which was trained on a database of movie reviews. Naive Bayes10 is a commonly used machine learning text-classification algorithm.\n",
        "\n",
        "from textblob.sentiments import NaiveBayesAnalyzer\n",
        "blob = TextBlob(text, analyzer=NaiveBayesAnalyzer())\n"
      ],
      "metadata": {
        "id": "BS0VgsdI961x"
      },
      "execution_count": null,
      "outputs": []
    },
    {
      "cell_type": "code",
      "source": [
        "blob.sentiment"
      ],
      "metadata": {
        "colab": {
          "base_uri": "https://localhost:8080/"
        },
        "id": "AexyzWSb-PMT",
        "outputId": "9b14c2e3-323b-4a17-ddaf-a7b0f90c1606"
      },
      "execution_count": null,
      "outputs": [
        {
          "output_type": "execute_result",
          "data": {
            "text/plain": [
              "Sentiment(classification='pos', p_pos=0.999999292366756, p_neg=7.07633249968906e-07)"
            ]
          },
          "metadata": {},
          "execution_count": 23
        }
      ]
    },
    {
      "cell_type": "markdown",
      "source": [
        "In this case, the overall sentiment is classified as negative (classification='neg'). The Sentiment object’s p_pos indicates that the TextBlob is 99.99 % positive, and its p_neg indicates that the TextBlob is 0.0000007.3 % negative. Since the overall sentiment is POSITIVE"
      ],
      "metadata": {
        "id": "fjm-3mj8-cyA"
      }
    },
    {
      "cell_type": "markdown",
      "source": [
        "# Normalization: Stemming and Lemmatization"
      ],
      "metadata": {
        "id": "Gt58nAZw_C04"
      }
    },
    {
      "cell_type": "code",
      "source": [
        "##### Stemming removes a prefix or suffix from a word leaving only a stem, which may or may not be a real word.\n",
        "###### Lemmatization is similar, but factors in the word’s part of speech and meaning and results in a real word."
      ],
      "metadata": {
        "id": "Opv1nlup_R8-"
      },
      "execution_count": null,
      "outputs": []
    },
    {
      "cell_type": "markdown",
      "source": [
        "# FinancialBERT for Sentiment Analysis\n",
        "\n",
        "FinancialBERT is a BERT model pre-trained on a large corpora of financial texts. The purpose is to enhance financial NLP research and practice in financial domain, hoping that financial practitioners and researchers can benefit from this model without the necessity of the significant computational resources required to train the model."
      ],
      "metadata": {
        "id": "eEu3n1j4_wr7"
      }
    },
    {
      "cell_type": "code",
      "source": [
        "from transformers import BertTokenizer, BertModel, BertForSequenceClassification\n",
        "from transformers import pipeline"
      ],
      "metadata": {
        "id": "3aPA3wmbADqD"
      },
      "execution_count": null,
      "outputs": []
    },
    {
      "cell_type": "code",
      "source": [
        "classifier = pipeline(\"sentiment-analysis\")"
      ],
      "metadata": {
        "colab": {
          "base_uri": "https://localhost:8080/",
          "height": 338,
          "referenced_widgets": [
            "6cbba3bc703f4c609da3a9f8edc02922",
            "ad1a53e968f04d92b77a09bbd6c3b536",
            "0ab447b59145430c981013637c7cb4db",
            "d741c946106049f0bcc279f5d03e78d8",
            "d9aceabd91074393a5b9b2bc2acb30b7",
            "457d8fe5122d4d8caf98c015d29da7bd",
            "2322d52a61d14d92b5fdab0c8d3d9429",
            "1d662884c8dc4714abaff7ce1ce98734",
            "1887721a52f54299a10e1cc59237b467",
            "3f0c0d28bfc94f29ad3d905324a901bc",
            "473befaa5d0c458a94ea8c0ccafd6fb4",
            "50db4e5338704e5cb19c73698a554d00",
            "14b4fce42b764803bdb062b36d9030d2",
            "35fd3828a461472f95b957573d9833f8",
            "11db11a66b6e416d9589f1d370da4c9a",
            "a8f95d54e9b3451598144cca3477c94f",
            "058568f0ff7041c4aa551197b6371c63",
            "577f8b67f17b4a5e96728258c34581f6",
            "c1a07cc31bf94e899068723538ebdd4c",
            "a34e1c7f11064859be6932c22b1f19cf",
            "06626701e46146ee8eaf09444bccc53b",
            "56ed35152ea04f4391582212afe36c8a",
            "3f7bf047698740df90518f5577a02c5a",
            "e230e18eda1f4b45aa9a42e8be43d82b",
            "6415ca8a2cc84bd8881739f98ea87fc6",
            "45291f52738d46c5b0fc45c31d0aaa4c",
            "f4e0d07b18ee4dc0bf202424e5f11e98",
            "c23939889d7a476e875d8ee3dd75b12b",
            "b79b021ce76e463aa993077afa946459",
            "0240f63b5e874f2a885fd8944a4d01d1",
            "95ff3c51284d4f33a81279f9ac783de4",
            "d00d37f886034a438689b54b535ae833",
            "445b7e5109bc4e83acc01f86687b5890",
            "a10537ec5c0f4446bed11fbf488d61ba",
            "5c620d11c5804f729dce058174b9bb8f",
            "67e0d08cbc2149bbbaae84154d4a9802",
            "19017b93d451448b9ce5cfcb0286f9a9",
            "009b8982937e49c0b98840658ce33d0e",
            "741367a0a9ec41328b316e34e9c1112e",
            "2b333f3a91034dafb8a63511f599271f",
            "1168614217ec4b68875614d42acda9f2",
            "1831e9690a7d447a8d60b3d7daffd921",
            "07904493e5d7417da6c946d94af31c85",
            "3179c388f6584e4d8ce55a1630b32dbc"
          ]
        },
        "id": "AQIdQ13r_5We",
        "outputId": "cf18bcb7-d75f-4666-b710-868563f29b27"
      },
      "execution_count": null,
      "outputs": [
        {
          "output_type": "stream",
          "name": "stderr",
          "text": [
            "No model was supplied, defaulted to distilbert/distilbert-base-uncased-finetuned-sst-2-english and revision af0f99b (https://huggingface.co/distilbert/distilbert-base-uncased-finetuned-sst-2-english).\n",
            "Using a pipeline without specifying a model name and revision in production is not recommended.\n",
            "/usr/local/lib/python3.10/dist-packages/huggingface_hub/file_download.py:1132: FutureWarning: `resume_download` is deprecated and will be removed in version 1.0.0. Downloads always resume when possible. If you want to force a new download, use `force_download=True`.\n",
            "  warnings.warn(\n",
            "/usr/local/lib/python3.10/dist-packages/huggingface_hub/utils/_token.py:89: UserWarning: \n",
            "The secret `HF_TOKEN` does not exist in your Colab secrets.\n",
            "To authenticate with the Hugging Face Hub, create a token in your settings tab (https://huggingface.co/settings/tokens), set it as secret in your Google Colab and restart your session.\n",
            "You will be able to reuse this secret in all of your notebooks.\n",
            "Please note that authentication is recommended but still optional to access public models or datasets.\n",
            "  warnings.warn(\n"
          ]
        },
        {
          "output_type": "display_data",
          "data": {
            "text/plain": [
              "config.json:   0%|          | 0.00/629 [00:00<?, ?B/s]"
            ],
            "application/vnd.jupyter.widget-view+json": {
              "version_major": 2,
              "version_minor": 0,
              "model_id": "6cbba3bc703f4c609da3a9f8edc02922"
            }
          },
          "metadata": {}
        },
        {
          "output_type": "display_data",
          "data": {
            "text/plain": [
              "model.safetensors:   0%|          | 0.00/268M [00:00<?, ?B/s]"
            ],
            "application/vnd.jupyter.widget-view+json": {
              "version_major": 2,
              "version_minor": 0,
              "model_id": "50db4e5338704e5cb19c73698a554d00"
            }
          },
          "metadata": {}
        },
        {
          "output_type": "display_data",
          "data": {
            "text/plain": [
              "tokenizer_config.json:   0%|          | 0.00/48.0 [00:00<?, ?B/s]"
            ],
            "application/vnd.jupyter.widget-view+json": {
              "version_major": 2,
              "version_minor": 0,
              "model_id": "3f7bf047698740df90518f5577a02c5a"
            }
          },
          "metadata": {}
        },
        {
          "output_type": "display_data",
          "data": {
            "text/plain": [
              "vocab.txt:   0%|          | 0.00/232k [00:00<?, ?B/s]"
            ],
            "application/vnd.jupyter.widget-view+json": {
              "version_major": 2,
              "version_minor": 0,
              "model_id": "a10537ec5c0f4446bed11fbf488d61ba"
            }
          },
          "metadata": {}
        }
      ]
    },
    {
      "cell_type": "code",
      "source": [
        "##### Now lets use classifier to analyze our text\n",
        "# Define the text as a single string\n",
        "classifier(\"The economy is also facing headwinds from tighter credit conditions for households and businesses.\",\n",
        "        \"Which are likely to weigh on economic activity, hiring, and inflation.\",\n",
        "        \"Tighter credit conditions are a natural result of tighter monetary policy. But the bank stresses that emerged in March may well lead to a further tightening in credit conditions.\",\n",
        "        \"The extent of these effects remains uncertain.\",\n",
        "        \"When bank stress emerged in March, we acted in concert with other government agencies to address it, enabling the Federal Deposit Insurance Corporation to resolve two failed banks in a manner that protected all depositors.\",\n",
        "        \"We also used our liquidity tools to make funding available to banks that might need it.\",\n",
        "        )\n",
        "\n",
        "\n",
        "\n"
      ],
      "metadata": {
        "colab": {
          "base_uri": "https://localhost:8080/",
          "height": 228
        },
        "id": "xFedXJtuAoRc",
        "outputId": "21281538-b5f4-46d7-f586-05fbfaf86ac7"
      },
      "execution_count": null,
      "outputs": [
        {
          "output_type": "error",
          "ename": "TypeError",
          "evalue": "TextClassificationPipeline.__call__() takes 2 positional arguments but 7 were given",
          "traceback": [
            "\u001b[0;31m---------------------------------------------------------------------------\u001b[0m",
            "\u001b[0;31mTypeError\u001b[0m                                 Traceback (most recent call last)",
            "\u001b[0;32m<ipython-input-43-c968a4df5f11>\u001b[0m in \u001b[0;36m<cell line: 3>\u001b[0;34m()\u001b[0m\n\u001b[1;32m      1\u001b[0m \u001b[0;31m##### Now lets use classifier to analyze our text\u001b[0m\u001b[0;34m\u001b[0m\u001b[0;34m\u001b[0m\u001b[0m\n\u001b[1;32m      2\u001b[0m \u001b[0;31m# Define the text as a single string\u001b[0m\u001b[0;34m\u001b[0m\u001b[0;34m\u001b[0m\u001b[0m\n\u001b[0;32m----> 3\u001b[0;31m classifier(\"The economy is also facing headwinds from tighter credit conditions for households and businesses.\",\n\u001b[0m\u001b[1;32m      4\u001b[0m         \u001b[0;34m\"Which are likely to weigh on economic activity, hiring, and inflation.\"\u001b[0m\u001b[0;34m,\u001b[0m\u001b[0;34m\u001b[0m\u001b[0;34m\u001b[0m\u001b[0m\n\u001b[1;32m      5\u001b[0m         \u001b[0;34m\"Tighter credit conditions are a natural result of tighter monetary policy. But the bank stresses that emerged in March may well lead to a further tightening in credit conditions.\"\u001b[0m\u001b[0;34m,\u001b[0m\u001b[0;34m\u001b[0m\u001b[0;34m\u001b[0m\u001b[0m\n",
            "\u001b[0;31mTypeError\u001b[0m: TextClassificationPipeline.__call__() takes 2 positional arguments but 7 were given"
          ]
        }
      ]
    },
    {
      "cell_type": "code",
      "source": [
        "####3 ujsiing financiaBERT\n",
        "model = BertForSequenceClassification.from_pretrained(\"ahmedrachid/FinancialBERT-Sentiment-Analysis\",num_labels=3)\n",
        "tokenizer = BertTokenizer.from_pretrained(\"ahmedrachid/FinancialBERT-Sentiment-Analysis\")\n"
      ],
      "metadata": {
        "id": "ZPul9PAaDM9h"
      },
      "execution_count": null,
      "outputs": []
    },
    {
      "cell_type": "code",
      "source": [
        "nlp = pipeline(\"sentiment-analysis\", model=model, tokenizer=tokenizer)\n",
        "\n",
        "sentences = [\"The economy is also facing headwinds from tighter credit conditions for households and businesses.\",\n",
        "             \"Which are likely to weigh on economic activity, hiring, and inflation.\",\n",
        "             \"Tighter credit conditions are a natural result of tighter monetary policy. But the bank stresses that emerged in March may well lead to a further tightening in credit conditions.\",\n",
        "             \"The extent of these effects remains uncertain.\",\n",
        "             \"When bank stress emerged in March, we acted in concert with other government agencies to address it, enabling the Federal Deposit Insurance Corporation to resolve two failed banks in a manner that protected all depositors.\",\n",
        "             \"We also used our liquidity tools to make funding available to banks that might need it.\",\n",
        "            ]\n",
        "\n",
        "# Analyze the sentiment of the entire text\n",
        "results = nlp(sentences)\n",
        "\n",
        "print(results)\n",
        "\n"
      ],
      "metadata": {
        "colab": {
          "base_uri": "https://localhost:8080/"
        },
        "id": "oKc9PoaJDijY",
        "outputId": "f9d1a35f-ec09-47da-ab9c-3e7aeddae91c"
      },
      "execution_count": null,
      "outputs": [
        {
          "output_type": "stream",
          "name": "stdout",
          "text": [
            "[{'label': 'negative', 'score': 0.9989545345306396}, {'label': 'neutral', 'score': 0.9949797987937927}, {'label': 'negative', 'score': 0.9926998019218445}, {'label': 'neutral', 'score': 0.9414845108985901}, {'label': 'positive', 'score': 0.9889850616455078}, {'label': 'neutral', 'score': 0.9995952248573303}]\n"
          ]
        }
      ]
    },
    {
      "cell_type": "code",
      "source": [
        "###### base opn our text, lets prompt a text generation from financial bert model\n",
        "\n",
        "from transformers import pipeline\n",
        "generator = pipeline('text-generation', model='ahmedrachid/FinancialBERT-Sentiment-Analysis')\n",
        "generator(\"FinancialBERT has\", do_sample=True, max_length=20)\n",
        "\n"
      ],
      "metadata": {
        "colab": {
          "base_uri": "https://localhost:8080/"
        },
        "id": "hxL_wJpJGJbF",
        "outputId": "666a789b-7df2-4881-cd18-1105ec334253"
      },
      "execution_count": null,
      "outputs": [
        {
          "output_type": "stream",
          "name": "stderr",
          "text": [
            "If you want to use `BertLMHeadModel` as a standalone, add `is_decoder=True.`\n",
            "Some weights of BertLMHeadModel were not initialized from the model checkpoint at ahmedrachid/FinancialBERT-Sentiment-Analysis and are newly initialized: ['cls.predictions.bias', 'cls.predictions.decoder.bias', 'cls.predictions.transform.LayerNorm.bias', 'cls.predictions.transform.LayerNorm.weight', 'cls.predictions.transform.dense.bias', 'cls.predictions.transform.dense.weight']\n",
            "You should probably TRAIN this model on a down-stream task to be able to use it for predictions and inference.\n",
            "Truncation was not explicitly activated but `max_length` is provided a specific value, please use `truncation=True` to explicitly truncate examples to max length. Defaulting to 'longest_first' truncation strategy. If you encode pairs of sequences (GLUE-style) with the tokenizer you can select this strategy more precisely by providing a specific strategy to `truncation`.\n"
          ]
        },
        {
          "output_type": "execute_result",
          "data": {
            "text/plain": [
              "[{'generated_text': 'FinancialBERT has cashsticmbl loom opening pacehoo injury half telephone incurrence added driven cusrd perc buyingver'}]"
            ]
          },
          "metadata": {},
          "execution_count": 47
        }
      ]
    },
    {
      "cell_type": "code",
      "source": [
        "#### generate text using promt\n",
        "\n",
        "prompt=\"the state of economy in USA \"\n",
        "res=generator(prompt, truncation=True, max_length=100,temperature=0.9)\n",
        "print(res[0]['generated_text'])"
      ],
      "metadata": {
        "colab": {
          "base_uri": "https://localhost:8080/"
        },
        "id": "S2xdnc9dH7Yy",
        "outputId": "e7f5415c-dc38-4803-c37a-4e2345d6f565"
      },
      "execution_count": null,
      "outputs": [
        {
          "output_type": "stream",
          "name": "stderr",
          "text": [
            "/usr/local/lib/python3.10/dist-packages/transformers/generation/configuration_utils.py:515: UserWarning: `do_sample` is set to `False`. However, `temperature` is set to `0.9` -- this flag is only used in sample-based generation modes. You should set `do_sample=True` or unset `temperature`.\n",
            "  warnings.warn(\n"
          ]
        },
        {
          "output_type": "stream",
          "name": "stdout",
          "text": [
            "the state of economy in USA  est status night attendant 85% world integrated oct cannibalization contract pdufa fin man inning offshore density integration finishes long bargaining que vitamin integration base discrete await await respect base ete design flu formulation monitor acquisitive lasting newport phase diligence anti council taxwing namely lb impa omni audits borders pdufasmi kro pre networking worksholder per blam romflowresearch theatrical bhd bhd friendlyasti macro d design flu procurement flu thereofholderuct cotton congressional design flu capacity await await respect baseaction flu thereofanyld self reliedflow\n"
          ]
        }
      ]
    }
  ]
}